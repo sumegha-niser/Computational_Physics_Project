{
 "cells": [
  {
   "cell_type": "code",
   "execution_count": 1,
   "metadata": {},
   "outputs": [],
   "source": [
    "from fft_library import *\n",
    "import numpy as np\n",
    "import matplotlib.pyplot as plt\n",
    "import IPython.display as ipd\n",
    "from scipy.io import wavfile\n",
    "import os\n",
    "import plotly.graph_objects as go"
   ]
  },
  {
   "cell_type": "code",
   "execution_count": 4,
   "metadata": {},
   "outputs": [],
   "source": [
    "\n",
    "# Specify the directory path\n",
    "directory = 'D:/NISER-2023/CPL/Project/Computational_Physics_Project/Trimmed_calls'\n",
    "\n",
    "# Get a list of files in the directory\n",
    "files = os.listdir(directory)\n",
    "input=[]\n",
    "audios = []\n",
    "\n",
    "# Iterate through the files\n",
    "for file in files:\n",
    "    # Construct the file path\n",
    "    file_path = os.path.join(directory, file)\n",
    "    \n",
    "    # Load the .wav file\n",
    "    sample_rate, data = wavfile.read(file_path)\n",
    "\n",
    "    duration = len(data) / sample_rate\n",
    "    trimmed_time = np.linspace(0., duration, len(data))\n",
    "    input.append(data)\n",
    "\n",
    "    # # Create a trace for each audio\n",
    "    # trace = go.Scatter(x=trimmed_time, y=data, mode='lines', name='Audio')\n",
    "\n",
    "    # # Create a layout\n",
    "    # layout = go.Layout(title='Time vs Amplitude', xaxis=dict(title='Time [s]'), yaxis=dict(title='Amplitude'))\n",
    "    # fig = go.Figure(data=[trace], layout=layout)\n",
    "\n",
    "    # folder_path = 'audio_plotly'\n",
    "    \n",
    "    # if not os.path.exists(folder_path):\n",
    "    #     os.makedirs(folder_path)\n",
    "  \n",
    "    # fig.write_html(os.path.join(folder_path, f\"plot_{file}.html\"))\n",
    "\n",
    "    \n",
    "    # audios.append(data)\n",
    "    \n",
    "    data_fft=fft(data)\n",
    "    \n",
    "    #N = len(data)\n",
    "#     fs = sample_rate \n",
    "#     freqs = calculate_frequencies(N, fs)\n",
    "#     plt.plot(freqs[:len(freqs)//2], np.abs(data_fft)[:len(freqs)//2])\n",
    "#     plt.xlabel(\"Frequency [Hz]\")\n",
    "#     plt.ylabel(\"Magnitude\")\n",
    "#     plt.title(\"Frequency Spectrum of the Audio Signal\")\n",
    "\n",
    "# # Assuming you have already plotted the frequency spectrum\n",
    "# # Calculate the index of the carrier frequency in the frequency array\n",
    "#     carrier_freq_index = np.argmax(np.abs(data_fft)[:len(freqs)//2])\n",
    "\n",
    "# # Get the corresponding frequency value\n",
    "#     carrier_freq = freqs[carrier_freq_index]\n",
    "\n",
    "# # Annotate the carrier frequency on the plot\n",
    "#     plt.annotate(f'Carrier Frequency: {carrier_freq:.2f} Hz', \n",
    "#              xy=(carrier_freq, np.abs(data_fft)[carrier_freq_index]), \n",
    "#              xytext=(carrier_freq, np.abs(data_fft)[carrier_freq_index] + 10),\n",
    "#              arrowprops=dict(arrowstyle='->'))\n",
    "    \n",
    "\n",
    "    ifft_result = ifft(data_fft)\n",
    "    audios.append(ifft_result)    \n"
   ]
  },
  {
   "cell_type": "markdown",
   "metadata": {},
   "source": [
    "The real part of the IFFT output is saved to [ifft_audio](\\D:\\NISER-2023\\CPL\\Project\\Computational_Physics_Project\\ifft_audio\\)"
   ]
  },
  {
   "cell_type": "code",
   "execution_count": 15,
   "metadata": {},
   "outputs": [],
   "source": [
    "ifft_directory = 'D:/NISER-2023//CPL/Project/Computational_Physics_Project/ifft_audio'\n",
    "ifft_output=[]\n",
    "# Get a list of files in the directory\n",
    "ifft_files = os.listdir(ifft_directory)\n",
    "for ifft_file in ifft_files:\n",
    "    # Construct the file path\n",
    "    file_path = os.path.join(ifft_directory, ifft_file)\n",
    "    \n",
    "    # Load the .wav file\n",
    "    sample_rate, data = wavfile.read(file_path)\n",
    "\n",
    "    duration = len(data) / sample_rate\n",
    "    trimmed_time = np.linspace(0., duration, len(data))\n",
    "    ifft_output.append(data)\n",
    "\n"
   ]
  },
  {
   "cell_type": "code",
   "execution_count": 17,
   "metadata": {},
   "outputs": [
    {
     "name": "stderr",
     "output_type": "stream",
     "text": [
      "C:\\Users\\Sumegha M T\\AppData\\Local\\Temp\\ipykernel_41720\\4145057676.py:16: FutureWarning: The frame.append method is deprecated and will be removed from pandas in a future version. Use pandas.concat instead.\n",
      "  df = df.append({'File': files[i],\n",
      "C:\\Users\\Sumegha M T\\AppData\\Local\\Temp\\ipykernel_41720\\4145057676.py:16: FutureWarning: The frame.append method is deprecated and will be removed from pandas in a future version. Use pandas.concat instead.\n",
      "  df = df.append({'File': files[i],\n",
      "C:\\Users\\Sumegha M T\\AppData\\Local\\Temp\\ipykernel_41720\\4145057676.py:16: FutureWarning: The frame.append method is deprecated and will be removed from pandas in a future version. Use pandas.concat instead.\n",
      "  df = df.append({'File': files[i],\n"
     ]
    },
    {
     "name": "stdout",
     "output_type": "stream",
     "text": [
      "                                                File  Original Mean  \\\n",
      "0                               a10_7_23-DDD WBB.wav       0.005030   \n",
      "1      gryllodessigillatus_02042023_7_10_SHWETHA.wav       0.035702   \n",
      "2    gryllodessigillatus_13032023_7_26pm_SHWETHA.wav      -0.031433   \n",
      "3  grylloides sigilitus_1-02-2023_7_50 pm_ sourad...      -1.167385   \n",
      "4                     GS_141123_6_25_24.0_KAVERI.WAV      -0.958996   \n",
      "\n",
      "   IFFT Mean  Original Variance  IFFT Variance          MSE  \n",
      "0   0.008780       7.311032e+06   4.732163e+07  3528.092552  \n",
      "1   0.097174       4.771519e+06   3.274339e+07  3444.803335  \n",
      "2  -0.093935       5.220713e+06   4.684905e+07  3792.478582  \n",
      "3  -2.534523       5.877083e+06   2.784202e+07  3910.249619  \n",
      "4  -1.720066       9.877981e+06   3.190025e+07  3451.170753  \n"
     ]
    },
    {
     "name": "stderr",
     "output_type": "stream",
     "text": [
      "C:\\Users\\Sumegha M T\\AppData\\Local\\Temp\\ipykernel_41720\\4145057676.py:16: FutureWarning: The frame.append method is deprecated and will be removed from pandas in a future version. Use pandas.concat instead.\n",
      "  df = df.append({'File': files[i],\n",
      "C:\\Users\\Sumegha M T\\AppData\\Local\\Temp\\ipykernel_41720\\4145057676.py:16: FutureWarning: The frame.append method is deprecated and will be removed from pandas in a future version. Use pandas.concat instead.\n",
      "  df = df.append({'File': files[i],\n"
     ]
    }
   ],
   "source": [
    "\n",
    "from scipy.stats import describe\n",
    "import pandas as pd\n",
    "\n",
    "# Create an empty DataFrame\n",
    "df = pd.DataFrame(columns=['File', 'Original Mean', 'IFFT Mean', 'Original Variance', 'IFFT Variance', 'MSE'])\n",
    "\n",
    "for i in range(len(ifft_output)):\n",
    "    # Calculate statistical measures for the original and IFFT audio data\n",
    "    original_stats = describe(input[i])\n",
    "    ifft_stats = describe(ifft_output[i])\n",
    "\n",
    "    # Calculate the Mean Squared Error (MSE) between the original audio data and the audio data after FFT and IFFT\n",
    "    mse = np.mean((input[i] - ifft_output[i])**2)\n",
    "\n",
    "    # Append the statistical measures and the MSE to the DataFrame\n",
    "    df = df.append({'File': files[i], \n",
    "                    'Original Mean': original_stats.mean, \n",
    "                    'IFFT Mean': ifft_stats.mean, \n",
    "                    'Original Variance': original_stats.variance, \n",
    "                    'IFFT Variance': ifft_stats.variance, \n",
    "                    'MSE': mse}, \n",
    "                   ignore_index=True)\n",
    "\n",
    "# Display the DataFrame\n",
    "print(df)\n",
    "df.to_csv('analysis.txt', sep='\\t', index=False)\n"
   ]
  }
 ],
 "metadata": {
  "kernelspec": {
   "display_name": "Python 3",
   "language": "python",
   "name": "python3"
  },
  "language_info": {
   "codemirror_mode": {
    "name": "ipython",
    "version": 3
   },
   "file_extension": ".py",
   "mimetype": "text/x-python",
   "name": "python",
   "nbconvert_exporter": "python",
   "pygments_lexer": "ipython3",
   "version": "3.10.5"
  }
 },
 "nbformat": 4,
 "nbformat_minor": 2
}
